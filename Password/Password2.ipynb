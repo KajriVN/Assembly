{
  "nbformat": 4,
  "nbformat_minor": 0,
  "metadata": {
    "colab": {
      "provenance": []
    },
    "kernelspec": {
      "name": "python3",
      "display_name": "Python 3"
    },
    "language_info": {
      "name": "python"
    }
  },
  "cells": [
    {
      "cell_type": "code",
      "execution_count": null,
      "metadata": {
        "id": "58JrTHNZggmg"
      },
      "outputs": [],
      "source": [
        ".text:003B1020 var_80          = byte ptr -80h\n",
        ".text:003B1020 argc            = dword ptr  4\n",
        ".text:003B1020 argv            = dword ptr  8\n",
        ".text:003B1020 envp            = dword ptr  0Ch\n",
        ".text:003B1020\n",
        ".text:003B1020                 sub     esp, 80h\n",
        ".text:003B1026                 push    esi\n",
        ".text:003B1027                 mov     esi, ds:printf\n",
        ".text:003B102D                 push    offset Format   ; \"enter password:\\n\"\n",
        ".text:003B1032                 call    esi ; printf\n",
        ".text:003B1034                 lea     eax, [esp+88h+var_80]\n",
        ".text:003B1038                 push    eax\n",
        ".text:003B1039                 push    offset aS       ; \"%s\"\n",
        ".text:003B103E                 call    ds:scanf\n",
        ".text:003B1044                 add     esp, 0Ch\n",
        ".text:003B1047                 cmp     eax, 1\n",
        ".text:003B104A                 jz      short loc_3B1056\n",
        ".text:003B104C                 push    offset aNoPasswordSupp ; \"no password supplied\\n\"\n",
        ".text:003B1051                 call    esi ; printf\n",
        ".text:003B1053                 add     esp, 4\n",
        ".text:003B1056\n",
        ".text:003B1056 loc_3B1056:                             ; CODE XREF: _main+2A↑j\n",
        ".text:003B1056                 mov     al, [esp+84h+var_80]\n",
        ".text:003B105A                 xor     edx, edx\n",
        ".text:003B105C                 lea     ecx, [esp+84h+var_80]\n",
        ".text:003B1060                 test    al, al\n",
        ".text:003B1062                 jz      short loc_3B108E\n",
        ".text:003B1064\n",
        ".text:003B1064 loc_3B1064:                             ; CODE XREF: _main+50↓j\n",
        ".text:003B1064                 movsx   eax, al\n",
        ".text:003B1067                 lea     ecx, [ecx+1]\n",
        ".text:003B106A                 add     edx, eax\n",
        ".text:003B106C                 mov     al, [ecx]\n",
        ".text:003B106E                 test    al, al\n",
        ".text:003B1070                 jnz     short loc_3B1064\n",
        ".text:003B1072                 cmp     edx, 1F8h\n",
        ".text:003B1078                 jnz     short loc_3B108E\n",
        ".text:003B107A                 push    offset aPasswordIsCorr ; \"password is correct\\n\"\n",
        ".text:003B107F                 call    esi ; printf\n",
        ".text:003B1081                 add     esp, 4\n",
        ".text:003B1084                 xor     eax, eax\n",
        ".text:003B1086                 pop     esi\n",
        ".text:003B1087                 add     esp, 80h\n",
        ".text:003B108D                 retn\n",
        ".text:003B108E ; ---------------------------------------------------------------------------\n",
        ".text:003B108E\n",
        ".text:003B108E loc_3B108E:                             ; CODE XREF: _main+42↑j\n",
        ".text:003B108E                                         ; _main+58↑j\n",
        ".text:003B108E                 push    offset aPasswordIsNotC ; \"password is not correct\\n\"\n",
        ".text:003B1093                 call    esi ; printf\n",
        ".text:003B1095                 add     esp, 4\n",
        ".text:003B1098                 xor     eax, eax\n",
        ".text:003B109A                 pop     esi\n",
        ".text:003B109B                 add     esp, 80h\n",
        ".text:003B10A1                 retn\n",
        ".text:003B10A1 _main           endp\n"
      ]
    },
    {
      "cell_type": "markdown",
      "source": [
        "Sau đây chúng ta cùng nhau phân tích đoạn code trên mà không cần Pseodu code thử nhe."
      ],
      "metadata": {
        "id": "iqt5SjSdgnxC"
      }
    },
    {
      "cell_type": "code",
      "source": [
        ".text:003B1020                 sub     esp, 80h\n",
        ".text:003B1026                 push    esi\n",
        ".text:003B1027                 mov     esi, ds:printf\n",
        ".text:003B102D                 push    offset Format   ; \"enter password:\\n\"\n",
        ".text:003B1032                 call    esi ; printf\n",
        ".text:003B1034                 lea     eax, [esp+88h+var_80]\n",
        ".text:003B1038                 push    eax\n",
        ".text:003B1039                 push    offset aS       ; \"%s\"\n",
        ".text:003B103E                 call    ds:scanf\n",
        ".text:003B1044                 add     esp, 0Ch\n",
        ".text:003B1047                 cmp     eax, 1\n",
        ".text:003B104A                 jz      short loc_3B1056\n",
        ".text:003B104C                 push    offset aNoPasswordSupp ; \"no password supplied\\n\"\n",
        ".text:003B1051                 call    esi ; printf\n",
        ".text:003B1053                 add     esp, 4\n",
        ".text:003B1056\n",
        ".text:003B1056 loc_3B1056:                             ; CODE XREF: _main+2A↑j\n",
        ".text:003B1056                 mov     al, [esp+84h+var_80]\n",
        ".text:003B105A                 xor     edx, edx\n",
        ".text:003B105C                 lea     ecx, [esp+84h+var_80]\n",
        ".text:003B1060                 test    al, al\n",
        ".text:003B1062                 jz      short loc_3B108E"
      ],
      "metadata": {
        "id": "rh6C5et9r7yb"
      },
      "execution_count": null,
      "outputs": []
    },
    {
      "cell_type": "markdown",
      "source": [
        "**## Initial**\n",
        "\n",
        "Ở base address 003B1020, đoạn này thì chỉ là khởi tạo bộ nhớ stack ở biến cục bộ với giá trị 0x80 ( 128 ) bytes.\n",
        "\n",
        "Sau đó chương trình sẽ tiếp tục thực hiện đoạn code in ra màn hình kêu bạn nhập password gì đó. Và ok cứ nhập thôi.\n",
        "![image.png](data:image/png;base64,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)\n",
        "\n",
        "\n",
        "Hừm, sai à?\n",
        "\n",
        "Thế đọc logic thôi ^^\n",
        "\n",
        "\n",
        "Ở đoạn trên ở chỗ lea eax, [esp+88h+var_80]. Đoạn này cho phép bạn gán value được lưu tại địa chỉ [esp + 0x8] mà do chưa có nên mặc định =0;\n",
        "\n",
        "\n",
        "add     esp, 0Ch --> Đoạn này chương trình chỉ dời con trỏ lên 0xC vị trí mà thôi\n",
        "\n",
        "\n",
        "cmp eax,1 là so sánh với 1. Nếu eax = 0 thì nhảy vào hàm loc_3B1056. Và tất nhiên nó bằng 0 thiệt.\n",
        "\n"
      ],
      "metadata": {
        "id": "dm2baYqOsBc7"
      }
    },
    {
      "cell_type": "code",
      "source": [
        "loc_3B1056:                     CODE XREF: _main+2A↑j\n",
        ".text:003B1056                 mov     al, [esp+84h+var_80]\n",
        ".text:003B105A                 xor     edx, edx\n",
        ".text:003B105C                 lea     ecx, [esp+84h+var_80]\n",
        ".text:003B1060                 test    al, al\n",
        ".text:003B1062                 jz      short loc_3B108E"
      ],
      "metadata": {
        "id": "83_-J5DesMXS"
      },
      "execution_count": null,
      "outputs": []
    },
    {
      "cell_type": "markdown",
      "source": [
        "`mov     al, [esp+84h+var_80]`\n",
        "\n",
        "> `al = [esp + 0x4]  =0;`\n",
        "\n",
        "\n",
        "xor     edx, edx\n",
        "\n",
        "> reset thanh ghi edx.\n",
        "\n",
        "`lea     ecx, [esp+84h+var_80]`\n",
        "\n",
        "> lea (Load--effective-address) về khái niệm thì na ná *mov*  nhưng sẽ có chút thay đổi vì lea sẽ chơi với địa chỉ nữa nên nếu ta gán value tại address đó thì cho dù không tồn tại value thì chương trình vẫn không xảy ra lỗi trong khi mov thì có.\n",
        "\n",
        "\n",
        "> ecx = 0;\n",
        "\n",
        "`test al,al;`\n",
        "\n",
        "\n",
        "\n",
        "> Nói nôm na, test chính là phép toán AND pha kè, và nếu bạn nghĩ al == al thì hoàn toàn sai vì al = 0 thì phép AND sẽ cho ra kết quả = 0 chứ không phải 1 đâu nhé. Và do ở trên ta đã gán =0 nên ở đây kết quả của lệnh test sẽ cho ra 0 và cờ **ZF** sáng đèn cho ra kết quả = 1.\n",
        "\n",
        "`jz      short loc_3B108E`\n",
        "\n",
        "\n",
        "\n",
        "> Vì test cho ra kết quả = 1 nên chỗ jz ( jump if zero) không thỏa điều kiện dẫn đến kết quả là không chạy vào và sẽ bypass nó.\n",
        "\n"
      ],
      "metadata": {
        "id": "5LCS90tevlbo"
      }
    },
    {
      "cell_type": "code",
      "source": [
        "loc_3B1064:                    ; CODE XREF: _main+50↓j\n",
        ".text:003B1064                 movsx   eax, al\n",
        ".text:003B1067                 lea     ecx, [ecx+1]\n",
        ".text:003B106A                 add     edx, eax\n",
        ".text:003B106C                 mov     al, [ecx]\n",
        ".text:003B106E                 test    al, al\n",
        ".text:003B1070                 jnz     short loc_3B1064\n",
        ".text:003B1072                 cmp     edx, 1F8h\n",
        ".text:003B1078                 jnz     short loc_3B108E\n",
        ".text:003B107A                 push    offset aPasswordIsCorr ; \"password is correct\\n\"\n",
        ".text:003B107F                 call    esi ; printf\n",
        ".text:003B1081                 add     esp, 4\n",
        ".text:003B1084                 xor     eax, eax\n",
        ".text:003B1086                 pop     esi\n",
        ".text:003B1087                 add     esp, 80h\n",
        ".text:003B108D                 retn"
      ],
      "metadata": {
        "id": "xIrAmGXHw6ZM"
      },
      "execution_count": null,
      "outputs": []
    },
    {
      "cell_type": "markdown",
      "source": [
        "Oke do đoạn code trên không thực hiện thì chúng ta sẽ cùng nhau đi xuống đây xem coi có gì nào?\n",
        "\n",
        ">\n",
        "\n"
      ],
      "metadata": {
        "id": "4ZgEjuXhxSg1"
      }
    },
    {
      "cell_type": "code",
      "source": [
        "loc_3B1064:                    CODE XREF: _main+50↓j\n",
        ".text:003B1064                 movsx   eax, al\n",
        ".text:003B1067                 lea     ecx, [ecx+1]\n",
        ".text:003B106A                 add     edx, eax\n",
        ".text:003B106C                 mov     al, [ecx]\n",
        ".text:003B106E                 test    al, al\n",
        ".text:003B1070                 jnz     short loc_3B1064"
      ],
      "metadata": {
        "id": "Rb452VbyxasO"
      },
      "execution_count": null,
      "outputs": []
    },
    {
      "cell_type": "code",
      "source": [],
      "metadata": {
        "id": "3-5874PSzB3s"
      },
      "execution_count": null,
      "outputs": []
    },
    {
      "cell_type": "markdown",
      "source": [
        "Oke. Sau khi đọc sơ một đoạn thì tôi nhận ra rằng là cái chương trình này tự gọi chính nó chỉ sau vài dòng lệnh\n",
        "\n",
        "Và tới đây thì tôi sẽ biết rằng đây là vòng loop chắc luôn nên ta sẽ ưu tiên xem coi nó làm gì nhé!\n",
        "\n",
        "`movsx   eax, al`\n",
        "\n",
        "> Do al = 0 trước đó nên lúc này gán vào eax thì vẫn  =0;\n",
        "\n",
        "\n",
        "`.text:003B1067 lea ecx, [ecx+1]`\n",
        "\n",
        "\n",
        "> Đoạn này gán value at address ecx+1 ( có khả năng là một kí tự or int)\n",
        "\n",
        "`add     edx, eax`\n",
        "\n",
        "\n",
        "\n",
        "> Việc edx += eax, tức có thể edx đóng vai trò là một tổng của các số bắt đầu từ base_addess + i;\n",
        "\n",
        "`mov     al, [ecx]`\n",
        "\n",
        "\n",
        "> Đoạn này cũng có thể hiểu là al = value ecx[1] vì trước đó mình gán rồi.\n",
        "\n",
        "\n",
        "`test    al, al`\n",
        "\n",
        "\n",
        "> Đoạn này AND hai thanh ghi al lại và tất nhiên sẽ =1 chỉ khi al = 0 thôi\n",
        "\n",
        "`jnz     short loc_3B1064`\n",
        "\n",
        "> Đoạn code này nghĩa là chỉ gọi lại hàm khi kết quả test khác 0. Cũng có nghĩa là nếu như al còn khác 0 thì chương trình sẽ luôn chạy.\n",
        "\n",
        "\n",
        "Hừm tới đây tôi đã mườn tượng được rồi.\n",
        "\n",
        "Thử tưởng tượng bằng pseodu code tự viết nhe.\n",
        "\n",
        "\n",
        "\n",
        "```\n",
        "string t = \"abc\";\n",
        "int i = 0;\n",
        "int sum =0;\n",
        "while(t[i] != '\\0')\n",
        "{\n",
        "    sum += (int)t[i];\n",
        "    i++;\n",
        "}\n",
        "```\n",
        "Tất nhiên tôi viết without debugging nên sẽ lỗi đó, chỉ viết đẻ đọc dễ hơn thôi.\n",
        "\n",
        "Hừm...nếu như code tôi đúng thì đoạn này sẽ + hết kí tự ASCII lại vào sum luôn. Vậy sau đó làm gì nữa? Đọc code tiếp ^^\n",
        "\n",
        "\n",
        "\n",
        "\n",
        "\n"
      ],
      "metadata": {
        "id": "sE1oxVnixf2Y"
      }
    },
    {
      "cell_type": "code",
      "source": [
        "cmp  edx, 1F8h\n",
        ".text:003B1078                 jnz     short loc_3B108E\n",
        ".text:003B107A                 push    offset aPasswordIsCorr ; \"password is correct\\n\"\n",
        ".text:003B107F                 call    esi ; printf\n",
        ".text:003B1081                 add     esp, 4\n",
        ".text:003B1084                 xor     eax, eax\n",
        ".text:003B1086                 pop     esi"
      ],
      "metadata": {
        "id": "EPEmz4roz_NP"
      },
      "execution_count": null,
      "outputs": []
    },
    {
      "cell_type": "code",
      "source": [],
      "metadata": {
        "id": "UGWOdME-0jZH"
      },
      "execution_count": null,
      "outputs": []
    },
    {
      "cell_type": "markdown",
      "source": [
        "Đây là đoạn code sau vòng lặp trên. Và như bạn đã thấy đấy.\n",
        "\n",
        "Rõ ràng ta thấy chương trình compare ( so sánh ) sum với 0x1F8 (504)\n",
        "\n",
        "Và nếu nó không bằng thì sẽ nhảy vào hàm loc_3B108E. Tức là chương trình thông báo rằng pass bạn nhập sai.\n",
        "\n",
        "Vậy bằng thì sau ?\n",
        "\n",
        "**Chương trình sẽ in ra password is correct và ta đã giải được chương trình này.**"
      ],
      "metadata": {
        "id": "wJM5fwre0j_u"
      }
    },
    {
      "cell_type": "markdown",
      "source": [
        "Ok. Vậy tóm tắt lại ta cần làm gì\n",
        "\n",
        "1. Mở cmd lên và ăn viruss\n",
        "2.Giỡn á, chạy chương trình trên máy ảo nhe ( mặc dù file an toàn 100% )\n",
        "3. Sau đó nhập password bằng các kí tự sau cho khi + lại = 504.\n",
        "\n",
        "Mình sẽ thử với ddddh xem.\n",
        "\n",
        "![image.png](data:image/png;base64,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)\n",
        "\n",
        "\n",
        "Ok. Vậy là đúng ha. Vậy còn mã khác thì sau ?\n",
        "\n",
        "![image.png](data:image/png;base64,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)\n",
        "\n",
        "\n",
        "Oh vẫn đúng. Vậy kết lại nhập sau mà bạn cho nó tổng lại = 504 thì ok bạn pass ^^."
      ],
      "metadata": {
        "id": "HDKtnM0q0jGG"
      }
    },
    {
      "cell_type": "code",
      "source": [],
      "metadata": {
        "id": "rI5ESpI72A1e"
      },
      "execution_count": null,
      "outputs": []
    }
  ]
}